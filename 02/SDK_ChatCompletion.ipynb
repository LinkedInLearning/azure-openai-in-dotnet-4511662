{
 "cells": [
  {
   "cell_type": "markdown",
   "metadata": {},
   "source": [
    "# 02 Azure OpenAI .NET SDK\n",
    "\n",
    "## Intro \n",
    "\n",
    "The Azure OpenAI SDK for .NET is a software development kit that allows .NET developers to integrate OpenAI's language models into their applications. It is provided as a NuGet package and at the time of recording of the training available in the version 1.0.0-beta.7.\n",
    "\n",
    "The SDK provides the object `OpenAIClient` which can be instantiated for making API calls to access the capabilities of OpenAI's language models, such as text generation. \n",
    "\n",
    "## Step 1 - Read Environment / Create OpenAIClient instance"
   ]
  },
  {
   "cell_type": "code",
   "execution_count": 1,
   "metadata": {
    "dotnet_interactive": {
     "language": "csharp"
    },
    "polyglot_notebook": {
     "kernelName": "csharp"
    }
   },
   "outputs": [
    {
     "data": {
      "text/html": [
       "<div><div></div><div></div><div><strong>Installed Packages</strong><ul><li><span>Azure.AI.OpenAI, 1.0.0-beta.7</span></li><li><span>DotNetEnv, 2.5.0</span></li></ul></div></div>"
      ]
     },
     "metadata": {},
     "output_type": "display_data"
    },
    {
     "name": "stdout",
     "output_type": "stream",
     "text": [
      "OpenAI Client created...\r\n"
     ]
    }
   ],
   "source": [
    "#r \"nuget: Azure.AI.OpenAI, 1.0.0-beta.7\"\n",
    "#r \"nuget: DotNetEnv, 2.5.0\"\n",
    "\n",
    "using Azure; \n",
    "using Azure.AI.OpenAI;\n",
    "using DotNetEnv;\n",
    "\n",
    "string _configurationFile = @\"../01/application.env\";\n",
    "Env.Load(_configurationFile);\n",
    "\n",
    "string oAiApiKey = Environment.GetEnvironmentVariable(\"AOAI_APIKEY\");\n",
    "string oAiEndpoint = Environment.GetEnvironmentVariable(\"AOAI_ENDPOINT\");\n",
    "string chatCompletionDeploymentName = Environment.GetEnvironmentVariable(\"CHATCOMPLETION_DEPLOYMENTNAME\");\n",
    "\n",
    "AzureKeyCredential azureKeyCredential = new AzureKeyCredential(oAiApiKey);\n",
    "OpenAIClient openAIClient = new OpenAIClient(new Uri(oAiEndpoint), azureKeyCredential);\n",
    "\n",
    "Console.WriteLine($\"OpenAI Client created...\");\n"
   ]
  },
  {
   "cell_type": "markdown",
   "metadata": {},
   "source": [
    "## Step 2 - Define system message & Summarization text"
   ]
  },
  {
   "cell_type": "code",
   "execution_count": 2,
   "metadata": {
    "dotnet_interactive": {
     "language": "csharp"
    },
    "polyglot_notebook": {
     "kernelName": "csharp"
    }
   },
   "outputs": [
    {
     "name": "stdout",
     "output_type": "stream",
     "text": [
      "System message & text to summarize defined ...\r\n"
     ]
    }
   ],
   "source": [
    "string systemMessage = @\"\n",
    "    Summarize the provided unstructured text in 3 easy to understand sentences. \n",
    "    The sentences need to be short and provide the most important content of the provided text.\";\n",
    "\n",
    "string textToSummarize = @\"\n",
    "    The Super Bowl is the annual American football game that determines the champion of the National Football League (NFL). \n",
    "    The game culminates a season that begins in the previous calendar year, and is the conclusion of the NFL playoffs. \n",
    "    The winner receives the Vince Lombardi Trophy. \n",
    "    The contest is held in an American city, chosen three to four years beforehand, usually at warm-weather sites or domed stadiums.\n",
    "    Since January 1971, the winner of the American Football Conference (AFC) Championship Game has faced the winner of the \n",
    "    National Football Conference  (NFC) Championship Game in the culmination of the NFL playoffs. \n",
    "    Before the 1970 merger between the American Football League (AFL) and the National Football League (NFL), \n",
    "    the two leagues met in four such contests. \n",
    "    The first two were marketed as the AFL NFL World Championship Game, but were also casually referred to as the \n",
    "    Super Bowl game during the television  broadcast. \n",
    "    Super Bowl III in January 1969 was the first such game that carried the Super Bowl moniker in official marketing; \n",
    "    the names Super Bowl and Super Bowl II were retroactively applied to the first two games. \n",
    "    A total of 20 franchises, including teams that have relocated to another city or changed their name, have won the Super Bowl.\n",
    "    There are four NFL teams that have never  appeared in a Super Bowl: the Cleveland Browns, Detroit Lions, Jacksonville Jaguars, \n",
    "    and Houston Texans, though both the Browns (1950, 1954, 1955, 1964) and Lions (1935, 1952, 1953, 1957) had won NFL Championship \n",
    "    Games prior to the  creation of the Super Bowl in the 1966 season. \n",
    "    The 1972 Dolphins capped off the only perfect season in NFL history with their  victory in Super Bowl VII. \n",
    "    Only two franchises have ever won the Super Bowl while hosting at their home stadiums: the Tampa Bay Buccaneers in Super Bowl \n",
    "    LV and the Los Angeles Rams in Super Bowl LVI.\";\n",
    "\n",
    "Console.WriteLine($\"System message & text to summarize defined ...\");\n"
   ]
  },
  {
   "cell_type": "markdown",
   "metadata": {},
   "source": [
    "## Step 3 - Call LLM endpoint"
   ]
  },
  {
   "cell_type": "code",
   "execution_count": 3,
   "metadata": {
    "dotnet_interactive": {
     "language": "csharp"
    },
    "polyglot_notebook": {
     "kernelName": "csharp"
    }
   },
   "outputs": [
    {
     "name": "stdout",
     "output_type": "stream",
     "text": [
      "Summarization:\n",
      "The Super Bowl is the annual American football game that determines the NFL champion, culminating a season that begins in the previous year\n",
      "The winner receives the Vince Lombardi Trophy and it's held in an American city chosen years beforehand\n",
      "There are four NFL teams that have never appeared in a Super Bowl: Cleveland Browns, Detroit Lions, Jacksonville Jaguars, and Houston Texans\n",
      "\n"
     ]
    }
   ],
   "source": [
    "\n",
    "//Compose Chat\n",
    "ChatCompletionsOptions chatCompletionsOptions = new ChatCompletionsOptions();\n",
    "chatCompletionsOptions.Messages.Add(new ChatMessage(ChatRole.System, systemMessage));\n",
    "chatCompletionsOptions.Messages.Add(new ChatMessage(ChatRole.User, textToSummarize));\n",
    "\n",
    "//Request Properties\n",
    "chatCompletionsOptions.MaxTokens = 500;\n",
    "chatCompletionsOptions.Temperature = 0.0f;\n",
    "chatCompletionsOptions.NucleusSamplingFactor = 0.0f;\n",
    "chatCompletionsOptions.FrequencyPenalty = 0.7f;\n",
    "chatCompletionsOptions.PresencePenalty = 0.7f;\n",
    "\n",
    "// Call the Model ChatCompletions endpoint\n",
    "Response<ChatCompletions> response = await openAIClient.GetChatCompletionsAsync(\n",
    "    chatCompletionDeploymentName, \n",
    "    chatCompletionsOptions);\n",
    "\n",
    "ChatChoice chatChoice = response.Value.Choices[0];\n",
    "Console.WriteLine(\"Summarization:\");\n",
    "foreach (string line in chatChoice.Message.Content.Split(\".\"))\n",
    "{\n",
    "    Console.WriteLine(line.Trim());\n",
    "}\n"
   ]
  },
  {
   "cell_type": "markdown",
   "metadata": {},
   "source": [
    "## Step 4 (optional) - Response streaming"
   ]
  },
  {
   "cell_type": "code",
   "execution_count": 4,
   "metadata": {
    "dotnet_interactive": {
     "language": "csharp"
    },
    "polyglot_notebook": {
     "kernelName": "csharp"
    }
   },
   "outputs": [
    {
     "name": "stdout",
     "output_type": "stream",
     "text": [
      "Arrived chunk: \n",
      "Arrived chunk: The\n",
      "Arrived chunk:  Super\n",
      "Arrived chunk:  Bowl\n",
      "Arrived chunk:  is\n",
      "Arrived chunk:  the\n",
      "Arrived chunk:  annual\n",
      "Arrived chunk:  American\n",
      "Arrived chunk:  football\n",
      "Arrived chunk:  game\n",
      "Arrived chunk:  that\n",
      "Arrived chunk:  determines\n",
      "Arrived chunk:  the\n",
      "Arrived chunk:  NFL\n",
      "Arrived chunk:  champion\n",
      "Arrived chunk: ,\n",
      "Arrived chunk:  cul\n",
      "Arrived chunk: minating\n",
      "Arrived chunk:  a\n",
      "Arrived chunk:  season\n",
      "Arrived chunk:  that\n",
      "Arrived chunk:  begins\n",
      "Arrived chunk:  in\n",
      "Arrived chunk:  the\n",
      "Arrived chunk:  previous\n",
      "Arrived chunk:  year\n",
      "Arrived chunk: .\n",
      "Arrived chunk:  The\n",
      "Arrived chunk:  winner\n",
      "Arrived chunk:  receives\n",
      "Arrived chunk:  the\n",
      "Arrived chunk:  Vince\n",
      "Arrived chunk:  Lomb\n",
      "Arrived chunk: ardi\n",
      "Arrived chunk:  Trophy\n",
      "Arrived chunk:  and\n",
      "Arrived chunk:  it\n",
      "Arrived chunk: 's\n",
      "Arrived chunk:  held\n",
      "Arrived chunk:  in\n",
      "Arrived chunk:  an\n",
      "Arrived chunk:  American\n",
      "Arrived chunk:  city\n",
      "Arrived chunk:  chosen\n",
      "Arrived chunk:  years\n",
      "Arrived chunk:  beforehand\n",
      "Arrived chunk: .\n",
      "Arrived chunk:  There\n",
      "Arrived chunk:  are\n",
      "Arrived chunk:  four\n",
      "Arrived chunk:  NFL\n",
      "Arrived chunk:  teams\n",
      "Arrived chunk:  that\n",
      "Arrived chunk:  have\n",
      "Arrived chunk:  never\n",
      "Arrived chunk:  appeared\n",
      "Arrived chunk:  in\n",
      "Arrived chunk:  a\n",
      "Arrived chunk:  Super\n",
      "Arrived chunk:  Bowl\n",
      "Arrived chunk: :\n",
      "Arrived chunk:  Cleveland\n",
      "Arrived chunk:  Browns\n",
      "Arrived chunk: ,\n",
      "Arrived chunk:  Detroit\n",
      "Arrived chunk:  Lions\n",
      "Arrived chunk: ,\n",
      "Arrived chunk:  Jacksonville\n",
      "Arrived chunk:  Jaguars\n",
      "Arrived chunk: ,\n",
      "Arrived chunk:  and\n",
      "Arrived chunk:  Houston\n",
      "Arrived chunk:  Texans\n",
      "Arrived chunk: .\n",
      "\n",
      "Arrived chunk: \n"
     ]
    }
   ],
   "source": [
    "Response<StreamingChatCompletions> streamingResponse = await openAIClient.GetChatCompletionsStreamingAsync(chatCompletionDeploymentName, chatCompletionsOptions);\n",
    "\n",
    "string responseChunk = string.Empty;\n",
    "\n",
    "using (streamingResponse.Value) {\n",
    "    await foreach(StreamingChatChoice chatChoice in streamingResponse.Value.GetChoicesStreaming()){\n",
    "        await foreach(ChatMessage chatMessage in chatChoice.GetMessageStreaming()){\n",
    "            Console.WriteLine($\"Arrived chunk: {chatMessage.Content}\");\n",
    "            responseChunk += chatMessage.Content;\n",
    "        }\n",
    "    }\n",
    "}\n"
   ]
  }
 ],
 "metadata": {
  "kernelspec": {
   "display_name": ".NET (C#)",
   "language": "C#",
   "name": ".net-csharp"
  },
  "language_info": {
   "name": "polyglot-notebook"
  },
  "polyglot_notebook": {
   "kernelInfo": {
    "defaultKernelName": "csharp",
    "items": [
     {
      "aliases": [],
      "languageName": "csharp",
      "name": "csharp"
     }
    ]
   }
  }
 },
 "nbformat": 4,
 "nbformat_minor": 2
}
