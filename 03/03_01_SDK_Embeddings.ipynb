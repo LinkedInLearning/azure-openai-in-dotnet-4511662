{
 "cells": [
  {
   "cell_type": "markdown",
   "metadata": {},
   "source": [
    "# 03 Embeddings\n",
    "\n",
    "## Intro \n",
    "\n",
    "Embeddings are dense, low-dimensional vector representations of words, phrases, or facts that capture their semantic meaning. They can be used to preserve semantic content by mapping similar phrases or facts to nearby points in the embedding space. \n",
    "\n",
    "OpenAI offers embeddings models that can transform text into vectors, allowing to represent textual information in a numerical format. These vectors can then be used to calculate e.g. Cosine Distance between vectors to identify similar semantic meaning of different phrases.\n",
    "\n",
    "## Step 1 - Read Environment / Create OpenAIClient instance"
   ]
  },
  {
   "cell_type": "code",
   "execution_count": 1,
   "metadata": {
    "dotnet_interactive": {
     "language": "csharp"
    },
    "polyglot_notebook": {
     "kernelName": "csharp"
    }
   },
   "outputs": [
    {
     "data": {
      "text/html": [
       "<div><div></div><div></div><div><strong>Installed Packages</strong><ul><li><span>Azure.AI.OpenAI, 1.0.0-beta.7</span></li><li><span>DotNetEnv, 2.5.0</span></li></ul></div></div>"
      ]
     },
     "metadata": {},
     "output_type": "display_data"
    },
    {
     "name": "stdout",
     "output_type": "stream",
     "text": [
      "OpenAI Client created...\r\n"
     ]
    }
   ],
   "source": [
    "#r \"nuget: Azure.AI.OpenAI, 1.0.0-beta.7\"\n",
    "#r \"nuget: DotNetEnv, 2.5.0\"\n",
    "\n",
    "using Azure; \n",
    "using Azure.AI.OpenAI;\n",
    "using DotNetEnv;\n",
    "using System.IO;\n",
    "using System.Text.Json; \n",
    "\n",
    "//configuration file is created during environment creation\n",
    "//if you skipped the deployment just remove the code and provide values from your deployment\n",
    "static string _configurationFile = @\"../01/application.env\";\n",
    "Env.Load(_configurationFile);\n",
    "\n",
    "string oAiApiKey = Environment.GetEnvironmentVariable(\"AOAI_APIKEY\");\n",
    "string oAiEndpoint = Environment.GetEnvironmentVariable(\"AOAI_ENDPOINT\");\n",
    "string embeddingDeploymentName = Environment.GetEnvironmentVariable(\"EMBEDDING_DEPLOYMENTNAME\");\n",
    "\n",
    "AzureKeyCredential azureKeyCredential = new AzureKeyCredential(oAiApiKey);\n",
    "OpenAIClient openAIClient = new OpenAIClient(new Uri(oAiEndpoint), azureKeyCredential);\n",
    "\n",
    "Console.WriteLine($\"OpenAI Client created...\");"
   ]
  },
  {
   "cell_type": "markdown",
   "metadata": {},
   "source": [
    "## Step 2 - Define facts\n"
   ]
  },
  {
   "cell_type": "code",
   "execution_count": 2,
   "metadata": {
    "dotnet_interactive": {
     "language": "csharp"
    },
    "polyglot_notebook": {
     "kernelName": "csharp"
    }
   },
   "outputs": [
    {
     "name": "stdout",
     "output_type": "stream",
     "text": [
      "Information collected / created!\r\n"
     ]
    }
   ],
   "source": [
    "//Some arbitrary facts\n",
    "Dictionary<string, string> informations = new Dictionary<string, string>();\n",
    "\n",
    "informations.Add(\n",
    "    \"ID: 1; Company Music\", \n",
    "    @\"Firma Musik is one of the world's leading record labels. \n",
    "      It has signed famous singers and is very profitable! \n",
    "      The flagship of Contoso Music is a group that performs under the name 'Contoso Only'!\"\n",
    ");\n",
    "informations.Add(\n",
    "    \"ID: 2; Company Maritim\", \n",
    "    @\"Company Heavy Industry Maritime products. \n",
    "      The current bestseller is the transporter 'Contoso XL Heavy 2000'.\"\n",
    ");\n",
    "informations.Add(\n",
    "    \"ID: 3; Company Agriculture\", \n",
    "    @\"Company Agriculture is a German start-up that focuses on the production of milk and grain. \n",
    "    Since this is a start-up, no further information is available!\"\n",
    ");\n",
    "\n",
    "Console.WriteLine(\"Information collected / created!\");"
   ]
  },
  {
   "cell_type": "markdown",
   "metadata": {},
   "source": [
    "## Step 3 - Calculate Embeddings"
   ]
  },
  {
   "cell_type": "code",
   "execution_count": 3,
   "metadata": {
    "dotnet_interactive": {
     "language": "csharp"
    },
    "polyglot_notebook": {
     "kernelName": "csharp"
    }
   },
   "outputs": [
    {
     "name": "stdout",
     "output_type": "stream",
     "text": [
      "Embedding for 'ID: 1; Company Music' created!\n",
      "Embedding for 'ID: 2; Company Maritim' created!\n",
      "Embedding for 'ID: 3; Company Agriculture' created!\n"
     ]
    }
   ],
   "source": [
    "//Calculate Embeddings\n",
    "EmbeddingsOptions embeddingsOptions; \n",
    "Dictionary<string, float[]> vectors = new Dictionary<string, float[]>(); \n",
    "foreach (var information in informations) {\n",
    "    embeddingsOptions = new EmbeddingsOptions(information.Value);\n",
    "    Response<Embeddings> embedding = await openAIClient.GetEmbeddingsAsync(embeddingDeploymentName, embeddingsOptions); \n",
    "    vectors.Add(information.Key, embedding.Value.Data[0].Embedding.ToArray<float>()); \n",
    "    Console.WriteLine($\"Embedding for '{information.Key}' created!\");\n",
    "}"
   ]
  },
  {
   "cell_type": "code",
   "execution_count": 4,
   "metadata": {
    "dotnet_interactive": {
     "language": "csharp"
    },
    "polyglot_notebook": {
     "kernelName": "csharp"
    }
   },
   "outputs": [
    {
     "data": {
      "text/html": [
       "<div><div></div><div></div><div><strong>Installed Packages</strong><ul><li><span>MathNet.Numerics, 5.0.0</span></li></ul></div></div>"
      ]
     },
     "metadata": {},
     "output_type": "display_data"
    },
    {
     "name": "stdout",
     "output_type": "stream",
     "text": [
      "Cosine distance ID: 1; Company Music: 0.25061116\n",
      "Cosine distance ID: 2; Company Maritim: 0.15340991\n",
      "Cosine distance ID: 3; Company Agriculture: 0.2441843\n"
     ]
    }
   ],
   "source": [
    "#r \"nuget: MathNet.Numerics, 5.0.0\"\n",
    "using MathNet.Numerics;\n",
    "\n",
    "//Perform semantic search\n",
    "string query = \"Who produces Container Ships?\"; \n",
    "embeddingsOptions = new EmbeddingsOptions(query);\n",
    "Response<Embeddings> embeddings = await openAIClient.GetEmbeddingsAsync(embeddingDeploymentName, embeddingsOptions); \n",
    "float[] searchVector = embeddings.Value.Data[0].Embedding.ToArray<float>();\n",
    "\n",
    "foreach(var fact in vectors) {\n",
    "    float distance = Distance.Cosine(searchVector, fact.Value);\n",
    "    Console.WriteLine($\"Cosine distance {fact.Key}: {distance}\");\n",
    "}"
   ]
  }
 ],
 "metadata": {
  "kernelspec": {
   "display_name": ".NET (C#)",
   "language": "C#",
   "name": ".net-csharp"
  },
  "language_info": {
   "name": "polyglot-notebook"
  },
  "polyglot_notebook": {
   "kernelInfo": {
    "defaultKernelName": "csharp",
    "items": [
     {
      "aliases": [],
      "languageName": "csharp",
      "name": "csharp"
     }
    ]
   }
  }
 },
 "nbformat": 4,
 "nbformat_minor": 2
}
