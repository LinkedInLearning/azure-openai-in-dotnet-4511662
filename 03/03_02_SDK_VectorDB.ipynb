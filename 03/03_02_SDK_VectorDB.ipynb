{
 "cells": [
  {
   "cell_type": "markdown",
   "metadata": {},
   "source": [
    "# 03 Vector DB\n",
    "\n",
    "## Intro \n",
    "\n",
    "Azure Cognitive Search can serve as a vector database by storing embeddings, which represent semantic information, in its index. This enables efficient querying and retrieval of documents or data points based on their semantic content, making it suitable for a wide range of applications, including search engines.\n",
    "\n",
    "## Step 1 - Read Environment / Create client (OpenAI / Search) instances"
   ]
  },
  {
   "cell_type": "code",
   "execution_count": 1,
   "metadata": {
    "dotnet_interactive": {
     "language": "csharp"
    },
    "polyglot_notebook": {
     "kernelName": "csharp"
    }
   },
   "outputs": [
    {
     "data": {
      "text/html": [
       "<div><div></div><div></div><div><strong>Installed Packages</strong><ul><li><span>Azure.AI.OpenAI, 1.0.0-beta.8</span></li><li><span>Azure.Search.Documents, 11.5.0-beta.4</span></li><li><span>DotNetEnv, 2.5.0</span></li></ul></div></div>"
      ]
     },
     "metadata": {},
     "output_type": "display_data"
    },
    {
     "name": "stdout",
     "output_type": "stream",
     "text": [
      "Environment variables loaded...\n",
      "Azure OpenAI client created...\n",
      "Cognitive Search client created...\n"
     ]
    }
   ],
   "source": [
    "#r \"nuget: Azure.AI.OpenAI, 1.0.0-beta.8\"\n",
    "#r \"nuget: Azure.Search.Documents, 11.5.0-beta.4\"\n",
    "#r \"nuget: DotNetEnv, 2.5.0\"\n",
    "\n",
    "using Azure;\n",
    "using Azure.AI.OpenAI;\n",
    "using Azure.Search.Documents;\n",
    "using Azure.Search.Documents.Indexes;\n",
    "using Azure.Search.Documents.Indexes.Models;\n",
    "using Azure.Search.Documents.Models;\n",
    "using DotNetEnv;\n",
    "\n",
    "\n",
    "string _configurationFile = @\"../01/application.env\";\n",
    "Env.Load(_configurationFile);\n",
    "\n",
    "string oAiApiKey = Environment.GetEnvironmentVariable(\"AOAI_APIKEY\") ?? \"\";\n",
    "string oAiEndpoint = Environment.GetEnvironmentVariable(\"AOAI_ENDPOINT\") ?? \"\";\n",
    "string embeddingDeploymentName = Environment.GetEnvironmentVariable(\"EMBEDDING_DEPLOYMENTNAME\") ?? \"\";\n",
    "\n",
    "string cognitiveSearchEndpoint = Environment.GetEnvironmentVariable(\"COGNITIVESEARCH_ENDPOINT\") ?? \"\";\n",
    "string cognitiveSearchApiKey = Environment.GetEnvironmentVariable(\"COGNITIVESEARCH_APIKEY\") ?? \"\";\n",
    "\n",
    "Console.WriteLine(\"Environment variables loaded...\");  \n",
    "\n",
    "AzureKeyCredential azureKeyCredential = new AzureKeyCredential(oAiApiKey);\n",
    "OpenAIClient openAIClient = new OpenAIClient(new Uri(oAiEndpoint), azureKeyCredential);\n",
    "\n",
    "AzureKeyCredential searchCredential = new AzureKeyCredential(cognitiveSearchApiKey);\n",
    "SearchIndexClient searchIndexClient = new SearchIndexClient(new Uri(cognitiveSearchEndpoint), searchCredential);\n",
    "\n",
    "Console.WriteLine(\"Azure OpenAI client created...\");\n",
    "Console.WriteLine(\"Cognitive Search client created...\");    \n"
   ]
  },
  {
   "cell_type": "markdown",
   "metadata": {},
   "source": [
    "## Step 2 - Create Search Index"
   ]
  },
  {
   "cell_type": "code",
   "execution_count": 2,
   "metadata": {
    "dotnet_interactive": {
     "language": "csharp"
    },
    "polyglot_notebook": {
     "kernelName": "csharp"
    }
   },
   "outputs": [
    {
     "name": "stdout",
     "output_type": "stream",
     "text": [
      "Search index created...\r\n"
     ]
    }
   ],
   "source": [
    "//Create search index\n",
    "string indexName = \"fact-index\"; \n",
    "string searchConfigName = \"fact-config\";\n",
    "\n",
    "int modelDimensions = 1536;\n",
    "SearchIndex searchIndex = new(indexName)\n",
    "{\n",
    "    Fields =\n",
    "    {\n",
    "        new SimpleField(\"FactId\", SearchFieldDataType.String) { IsKey = true, IsFilterable = true, IsSortable = true, IsFacetable = true },\n",
    "        new SearchableField(\"FactName\") { IsFilterable = true, IsSortable = true },\n",
    "        new SearchableField(\"FactDescription\") { IsFilterable = true },\n",
    "        new SearchField(\"FactVector\", SearchFieldDataType.Collection(SearchFieldDataType.Single))\n",
    "        {\n",
    "            IsSearchable = true,\n",
    "            VectorSearchDimensions = modelDimensions,\n",
    "            VectorSearchConfiguration = searchConfigName\n",
    "        },\n",
    "    },\n",
    "    VectorSearch = new()\n",
    "    {\n",
    "        AlgorithmConfigurations =\n",
    "        {\n",
    "            new HnswVectorSearchAlgorithmConfiguration(searchConfigName)\n",
    "        }\n",
    "    }\n",
    "}; \n",
    "\n",
    "try { await searchIndexClient.DeleteIndexAsync(indexName); } catch {}\n",
    "await searchIndexClient.CreateIndexAsync(searchIndex);   \n",
    "Console.WriteLine(\"Search index created...\");\n"
   ]
  },
  {
   "cell_type": "markdown",
   "metadata": {},
   "source": [
    "## Step 3 - Define facts"
   ]
  },
  {
   "cell_type": "code",
   "execution_count": 3,
   "metadata": {
    "dotnet_interactive": {
     "language": "csharp"
    },
    "polyglot_notebook": {
     "kernelName": "csharp"
    }
   },
   "outputs": [
    {
     "name": "stdout",
     "output_type": "stream",
     "text": [
      "Facts defined...\r\n"
     ]
    }
   ],
   "source": [
    "//Define facts\n",
    "public class Fact\n",
    "{\n",
    "    public string FactId { get; set; } = \"\";\n",
    "    public string FactName { get; set; } = \"\";\n",
    "    public string FactDescription { get; set; } = \"\";\n",
    "    public IReadOnlyList<float> FactVector { get; set; } = new List<float>(); \n",
    "}\n",
    "\n",
    "Fact[] facts = new[]\n",
    "{\n",
    "    new Fact()\n",
    "    {\n",
    "        FactId = \"1\",\n",
    "        FactName = \"Company Music\",\n",
    "        FactDescription = @\"Firma Musik is one of the world's leading record labels. \n",
    "                            It has signed famous singers and is very profitable! \n",
    "                            The flagship of Contoso Music is a group that performs under the name 'Contoso Only'!\",\n",
    "        FactVector = new float[1536],\n",
    "    },\n",
    "    new Fact()\n",
    "    {\n",
    "        FactId = \"2\",\n",
    "        FactName = \"Company Maritim\",\n",
    "        FactDescription = @\"Company Heavy Industry Maritime products. \n",
    "                        The current bestseller is the transporter 'Contoso XL Heavy 2000'.\",\n",
    "        FactVector = new float[1536],\n",
    "    },\n",
    "    new Fact()\n",
    "    {\n",
    "        FactId = \"3\",\n",
    "        FactName = \"Company Agriculture\",\n",
    "        FactDescription = @\"Company Agriculture is a German start-up that focuses on the production of milk and grain. \n",
    "                            Since this is a start-up, no further information is available!\",\n",
    "        FactVector = new float[1536], \n",
    "    },\n",
    "};\n",
    "\n",
    "Console.WriteLine(\"Facts defined...\");"
   ]
  },
  {
   "cell_type": "markdown",
   "metadata": {},
   "source": [
    "## Step 4 - Upload facts to Azure Cognitive Search"
   ]
  },
  {
   "cell_type": "code",
   "execution_count": 4,
   "metadata": {
    "dotnet_interactive": {
     "language": "csharp"
    },
    "polyglot_notebook": {
     "kernelName": "csharp"
    }
   },
   "outputs": [
    {
     "name": "stdout",
     "output_type": "stream",
     "text": [
      "Fact documents uploaded...\r\n"
     ]
    }
   ],
   "source": [
    "foreach(Fact fact in facts) {\n",
    "    EmbeddingsOptions factEmbeddingsOptions = new EmbeddingsOptions(fact.FactDescription);\n",
    "    var factEmbedding = await openAIClient.GetEmbeddingsAsync(embeddingDeploymentName, factEmbeddingsOptions);\n",
    "    float[] embeddingData = factEmbedding.Value.Data[0].Embedding.ToArray<float>();\n",
    "    fact.FactVector = embeddingData;\n",
    "}\n",
    "\n",
    "SearchClient searchClient = searchIndexClient.GetSearchClient(indexName);\n",
    "await searchClient.IndexDocumentsAsync(IndexDocumentsBatch.Upload(facts));\n",
    "\n",
    "Console.WriteLine(\"Fact documents uploaded...\");"
   ]
  },
  {
   "cell_type": "markdown",
   "metadata": {},
   "source": [
    "## Step 5 - Vector search"
   ]
  },
  {
   "cell_type": "code",
   "execution_count": 7,
   "metadata": {
    "dotnet_interactive": {
     "language": "csharp"
    },
    "polyglot_notebook": {
     "kernelName": "csharp"
    }
   },
   "outputs": [
    {
     "name": "stdout",
     "output_type": "stream",
     "text": [
      "Single Vector Search Results:\n",
      "Search result: 2: Company Maritim\n"
     ]
    }
   ],
   "source": [
    "//Search vectors\n",
    "EmbeddingsOptions embeddingsOptions; \n",
    "embeddingsOptions = new EmbeddingsOptions(\"Who produces Container Ships?\");\n",
    "var embedding = await openAIClient.GetEmbeddingsAsync(embeddingDeploymentName, embeddingsOptions);\n",
    "float[] vectorizedResult = embedding.Value.Data[0].Embedding.ToArray<float>();\n",
    "\n",
    "\n",
    "SearchResults<Fact> response = await searchClient.SearchAsync<Fact>(\n",
    "    null,\n",
    "    new SearchOptions {\n",
    "        Vectors = { new() { Value = vectorizedResult, KNearestNeighborsCount = 1, Fields = { \"FactVector\" } } },\n",
    "    }\n",
    ");\n",
    "\n",
    "Console.WriteLine($\"Single Vector Search Results:\");\n",
    "await foreach (SearchResult<Fact> result in response.GetResultsAsync())\n",
    "{\n",
    "    Console.WriteLine($\"Search result: {result.Document.FactId}: {result.Document.FactName}\");\n",
    "}"
   ]
  }
 ],
 "metadata": {
  "kernelspec": {
   "display_name": ".NET (C#)",
   "language": "C#",
   "name": ".net-csharp"
  },
  "language_info": {
   "name": "polyglot-notebook"
  },
  "polyglot_notebook": {
   "kernelInfo": {
    "defaultKernelName": "csharp",
    "items": [
     {
      "aliases": [],
      "languageName": "csharp",
      "name": "csharp"
     }
    ]
   }
  }
 },
 "nbformat": 4,
 "nbformat_minor": 2
}
