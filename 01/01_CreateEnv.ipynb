{
 "cells": [
  {
   "cell_type": "markdown",
   "metadata": {},
   "source": [
    "# 01  Create Azure Environment\n",
    "\n",
    "## Azure \n",
    "\n",
    "This notebook contains the script to create the necessary Azure environment to run the provided samples. The notebook uses [PowerShell](https://learn.microsoft.com/de-de/powershell/scripting/install/installing-powershell?view=powershell-7.3) and [Azure CLI](https://learn.microsoft.com/en-us/cli/azure/install-azure-cli) with the BICEP command group to deploy all necessary Azure resources. Both tools are available on Windows, macOS and Linux environments."
   ]
  },
  {
   "cell_type": "markdown",
   "metadata": {},
   "source": [
    "## Step 1:   Login to Azure; get, set subscription"
   ]
  },
  {
   "cell_type": "code",
   "execution_count": 1,
   "metadata": {
    "dotnet_interactive": {
     "language": "pwsh"
    },
    "polyglot_notebook": {
     "kernelName": "pwsh"
    },
    "vscode": {
     "languageId": "polyglot-notebook"
    }
   },
   "outputs": [
    {
     "name": "stdout",
     "output_type": "stream",
     "text": [
      "Already logged in as CTE - Courseware Development 14 [COGS]\r\n"
     ]
    },
    {
     "ename": "Error",
     "evalue": "Microsoft.DotNet.Interactive.NoSuitableKernelException: No kernel found for Microsoft.DotNet.Interactive.Commands.RequestHoverText with target kernel 'pwsh'.\r\n   at Microsoft.DotNet.Interactive.Commands.KernelCommand.InvokeAsync(KernelInvocationContext context) in D:\\a\\_work\\1\\s\\src\\Microsoft.DotNet.Interactive\\Commands\\KernelCommand.cs:line 184\r\n   at Microsoft.DotNet.Interactive.Kernel.HandleAsync(KernelCommand command, KernelInvocationContext context) in D:\\a\\_work\\1\\s\\src\\Microsoft.DotNet.Interactive\\Kernel.cs:line 323\r\n   at Microsoft.DotNet.Interactive.KernelCommandPipeline.<BuildPipeline>b__6_0(KernelCommand command, KernelInvocationContext context, KernelPipelineContinuation _) in D:\\a\\_work\\1\\s\\src\\Microsoft.DotNet.Interactive\\KernelCommandPipeline.cs:line 60\r\n   at Microsoft.DotNet.Interactive.KernelCommandPipeline.SendAsync(KernelCommand command, KernelInvocationContext context) in D:\\a\\_work\\1\\s\\src\\Microsoft.DotNet.Interactive\\KernelCommandPipeline.cs:line 41",
     "output_type": "error",
     "traceback": [
      "Microsoft.DotNet.Interactive.NoSuitableKernelException: No kernel found for Microsoft.DotNet.Interactive.Commands.RequestHoverText with target kernel 'pwsh'.\r\n",
      "   at Microsoft.DotNet.Interactive.Commands.KernelCommand.InvokeAsync(KernelInvocationContext context) in D:\\a\\_work\\1\\s\\src\\Microsoft.DotNet.Interactive\\Commands\\KernelCommand.cs:line 184\r\n",
      "   at Microsoft.DotNet.Interactive.Kernel.HandleAsync(KernelCommand command, KernelInvocationContext context) in D:\\a\\_work\\1\\s\\src\\Microsoft.DotNet.Interactive\\Kernel.cs:line 323\r\n",
      "   at Microsoft.DotNet.Interactive.KernelCommandPipeline.<BuildPipeline>b__6_0(KernelCommand command, KernelInvocationContext context, KernelPipelineContinuation _) in D:\\a\\_work\\1\\s\\src\\Microsoft.DotNet.Interactive\\KernelCommandPipeline.cs:line 60\r\n",
      "   at Microsoft.DotNet.Interactive.KernelCommandPipeline.SendAsync(KernelCommand command, KernelInvocationContext context) in D:\\a\\_work\\1\\s\\src\\Microsoft.DotNet.Interactive\\KernelCommandPipeline.cs:line 41"
     ]
    },
    {
     "ename": "Error",
     "evalue": "Command cancelled.",
     "output_type": "error",
     "traceback": [
      "Command cancelled."
     ]
    }
   ],
   "source": [
    "# Check if you are already logged in\n",
    "$loggedIn = az account show --query \"name\" -o tsv\n",
    "\n",
    "if ($loggedIn -ne $null) {\n",
    "    Write-Host \"Already logged in as $loggedIn\"\n",
    "} else {\n",
    "    Write-Host \"Logging in...\"\n",
    "    az login\n",
    "}\n",
    "# Retrieve default subscription id\n",
    "$subscriptionId = (\n",
    "    (\n",
    "        az account list -o json `\n",
    "            --query \"[?isDefault]\"\n",
    "    ) | ConvertFrom-Json\n",
    ").id\n",
    "\n",
    "# Set Subscription\n",
    "az account set --subscription $subscriptionId\n",
    "\n",
    "Write-Host \"Subscription set to $subscriptionId\""
   ]
  },
  {
   "cell_type": "markdown",
   "metadata": {},
   "source": [
    "## Step 2:   Define project unifier\n"
   ]
  },
  {
   "cell_type": "code",
   "execution_count": 2,
   "metadata": {
    "dotnet_interactive": {
     "language": "pwsh"
    },
    "polyglot_notebook": {
     "kernelName": "pwsh"
    },
    "vscode": {
     "languageId": "polyglot-notebook"
    }
   },
   "outputs": [
    {
     "name": "stdout",
     "output_type": "stream",
     "text": [
      "Unifier set to: 850\r\n"
     ]
    }
   ],
   "source": [
    "$unifier = Get-Random -Minimum 100 -Maximum 999\n",
    "\n",
    "Write-Host \"Unifier set to: $unifier\""
   ]
  },
  {
   "cell_type": "markdown",
   "metadata": {},
   "source": [
    "## Step 3:   Create Resource Group"
   ]
  },
  {
   "cell_type": "code",
   "execution_count": 2,
   "metadata": {
    "dotnet_interactive": {
     "language": "pwsh"
    },
    "polyglot_notebook": {
     "kernelName": "pwsh"
    },
    "vscode": {
     "languageId": "polyglot-notebook"
    }
   },
   "outputs": [
    {
     "name": "stdout",
     "output_type": "stream",
     "text": [
      "{\n",
      "  \"id\": \"/subscriptions/56d848f2-9cd5-4581-b998-80dc5df9bae9/resourceGroups/LIL-AOAI\",\n",
      "  \"location\": \"canadaeast\",\n",
      "  \"managedBy\": null,\n",
      "  \"name\": \"LIL-AOAI\",\n",
      "  \"properties\": {\n",
      "    \"provisioningState\": \"Succeeded\"\n",
      "  },\n",
      "  \"tags\": null,\n",
      "  \"type\": \"Microsoft.Resources/resourceGroups\"\n",
      "}\n",
      "Resource group LIL-AOAI created in canadaeast...\n"
     ]
    }
   ],
   "source": [
    "$resourceGroup = \"LIL-AOAI\"\n",
    "$location = \"canadaeast\"\n",
    "\n",
    "az group create `\n",
    "    --name $resourceGroup `\n",
    "    --location $location \n",
    "\n",
    "Write-Host \"Resource group $resourceGroup created in $location...\""
   ]
  },
  {
   "cell_type": "markdown",
   "metadata": {},
   "source": [
    "## Step 4:   Deploy Azure Resources\n",
    "\n",
    "### Step 4.1: Prepare deployment"
   ]
  },
  {
   "cell_type": "code",
   "execution_count": 4,
   "metadata": {
    "dotnet_interactive": {
     "language": "pwsh"
    },
    "polyglot_notebook": {
     "kernelName": "pwsh"
    },
    "vscode": {
     "languageId": "polyglot-notebook"
    }
   },
   "outputs": [
    {
     "name": "stdout",
     "output_type": "stream",
     "text": [
      "Unifier 850 added to service names...\r\n"
     ]
    }
   ],
   "source": [
    "$deploymentParametersFile = \"./azuredeploy.parameters.json\"\n",
    "\n",
    "$deploymentTemplate = Get-Content (Join-Path -Path (Get-Location) -ChildPath $deploymentParametersFile)\n",
    "$deploymentTemplate = $deploymentTemplate -replace \"unifier\", $unifier\n",
    "\n",
    "$deploymentTemplate | Set-Content (Join-Path -Path (Get-Location) -ChildPath $deploymentParametersFile)\n",
    "\n",
    "Write-Host \"Unifier $unifier added to service names...\""
   ]
  },
  {
   "cell_type": "markdown",
   "metadata": {},
   "source": [
    "### Step 4.2: Deployment"
   ]
  },
  {
   "cell_type": "code",
   "execution_count": 3,
   "metadata": {
    "dotnet_interactive": {
     "language": "pwsh"
    },
    "polyglot_notebook": {
     "kernelName": "pwsh"
    },
    "vscode": {
     "languageId": "polyglot-notebook"
    }
   },
   "outputs": [
    {
     "name": "stdout",
     "output_type": "stream",
     "text": [
      "Deployment LIL-AOAI created...\r\n"
     ]
    }
   ],
   "source": [
    "$deploymentName = \"LIL-AOAI\"\n",
    "$deploymentTemplateFile = \"azuredeploy.bicep\"\n",
    "$deploymentParametersFile = \"azuredeploy.parameters.json\"\n",
    "\n",
    "$deployment = ( \n",
    "    az deployment group create `\n",
    "        --name $deploymentName `\n",
    "        --resource-group $resourceGroup `\n",
    "        --template-file $deploymentTemplateFile `\n",
    "        --parameters @$deploymentParametersFile `\n",
    ") | ConvertFrom-Json\n",
    "\n",
    "Write-Host \"Deployment $deploymentName created...\""
   ]
  },
  {
   "cell_type": "markdown",
   "metadata": {},
   "source": [
    "## Step 5: Create application.env file\n"
   ]
  },
  {
   "cell_type": "code",
   "execution_count": 4,
   "metadata": {
    "dotnet_interactive": {
     "language": "pwsh"
    },
    "polyglot_notebook": {
     "kernelName": "pwsh"
    },
    "vscode": {
     "languageId": "polyglot-notebook"
    }
   },
   "outputs": [
    {
     "name": "stdout",
     "output_type": "stream",
     "text": [
      "Configuration file created at: C:\\LiL_AOAI\\01\\application.env...\n",
      "Configuration file copied to chapter 02 folder...\n"
     ]
    }
   ],
   "source": [
    "$aoaiApiKey = $deployment.properties.outputs.aoai_apikey.value\n",
    "$aoaiEndpoint = $deployment.properties.outputs.aoai_endpoint.value\n",
    "$embeddingDeploymentName = $deployment.properties.outputs.embedding_deploymentname.value\n",
    "$chatCompletionDeploymentName = $deployment.properties.outputs.chatcompletion_deploymentname.value\n",
    "$cognitiveSearchApiKey = $deployment.properties.outputs.cognitivesearch_apikey.value\n",
    "$cognitiveSearchEndpoint = $deployment.properties.outputs.cognitivesearch_endpoint.value\n",
    "\n",
    "# Create configuration file for .NET demo applications\n",
    "$configurationFile = Join-Path -Path (Get-Location) -ChildPath \"application.env\"\n",
    "Add-Content -Path $configurationFile -value \"AOAI_APIKEY = $aoaiApiKey\"\n",
    "Add-Content -Path $configurationFile -value \"AOAI_ENDPOINT = $aoaiEndpoint\"\n",
    "Add-Content -Path $configurationFile -value \"CHATCOMPLETION_DEPLOYMENTNAME = $chatCompletionDeploymentName\"\n",
    "Add-Content -Path $configurationFile -value \"EMBEDDING_DEPLOYMENTNAME = $embeddingDeploymentName\"\n",
    "Add-Content -Path $configurationFile -value \"COGNITIVESEARCH_ENDPOINT = $cognitiveSearchEndpoint\"\n",
    "Add-Content -Path $configurationFile -value \"COGNITIVESEARCH_APIKEY = $cognitiveSearchApiKey\"\n",
    "\n",
    "Write-Host \"Configuration file created at: $configurationFile...\"\n",
    "\n",
    "# Copy configuration file to chapter 02 folder\n",
    "copy $configurationFile \"../02/.env\"\n",
    "\n",
    "Write-Host \"Configuration file copied to chapter 02 folder...\""
   ]
  }
 ],
 "metadata": {
  "kernelspec": {
   "display_name": "Python 3",
   "language": "python",
   "name": "python3"
  },
  "language_info": {
   "codemirror_mode": {
    "name": "ipython",
    "version": 3
   },
   "file_extension": ".py",
   "mimetype": "text/x-python",
   "name": "python",
   "nbconvert_exporter": "python",
   "pygments_lexer": "ipython3",
   "version": "3.10.11"
  },
  "polyglot_notebook": {
   "kernelInfo": {
    "defaultKernelName": "csharp",
    "items": [
     {
      "aliases": [],
      "languageName": "csharp",
      "name": "csharp"
     }
    ]
   }
  }
 },
 "nbformat": 4,
 "nbformat_minor": 2
}
