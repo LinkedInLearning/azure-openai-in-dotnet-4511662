{
 "cells": [
  {
   "cell_type": "markdown",
   "metadata": {},
   "source": [
    "# 04 MS Semantic Kernel - Plugin\n",
    "\n",
    "## Intro \n",
    "\n",
    "Semantic Kernel abstracts direct communication with Azure OpenAI. Plug-ins allow combining semantic functions (LLM calls) with native functions (c# code).\n",
    "\n",
    "\n",
    "## Step 1 - Read Environment / Create Semantic Kernel Instance"
   ]
  },
  {
   "cell_type": "code",
   "execution_count": 5,
   "metadata": {
    "dotnet_interactive": {
     "language": "csharp"
    },
    "polyglot_notebook": {
     "kernelName": "csharp"
    }
   },
   "outputs": [
    {
     "data": {
      "text/html": [
       "<div><div></div><div></div><div><strong>Installed Packages</strong><ul><li><span>DotNetEnv, 2.5.0</span></li><li><span>Microsoft.SemanticKernel, 1.0.0-beta1</span></li></ul></div></div>"
      ]
     },
     "metadata": {},
     "output_type": "display_data"
    },
    {
     "name": "stdout",
     "output_type": "stream",
     "text": [
      "Semantic Kernel created...\r\n"
     ]
    }
   ],
   "source": [
    "#r \"nuget: Microsoft.SemanticKernel, 1.0.0-beta1\"\n",
    "#r \"nuget: DotNetEnv, 2.5.0\"\n",
    "\n",
    "using Azure; \n",
    "using Azure.AI.OpenAI;\n",
    "using Microsoft.SemanticKernel;\n",
    "\n",
    "using DotNetEnv;\n",
    "\n",
    "string _configurationFile = @\"../01/application.env\";\n",
    "Env.Load(_configurationFile);\n",
    "\n",
    "string oAiApiKey = Environment.GetEnvironmentVariable(\"AOAI_APIKEY\");\n",
    "string oAiEndpoint = Environment.GetEnvironmentVariable(\"AOAI_ENDPOINT\");\n",
    "string chatCompletionDeploymentName = Environment.GetEnvironmentVariable(\"CHATCOMPLETION_DEPLOYMENTNAME\");\n",
    "\n",
    "IKernel kernel = new KernelBuilder()\n",
    "    .WithAzureChatCompletionService(\n",
    "        endpoint: oAiEndpoint, \n",
    "        apiKey: oAiApiKey,\n",
    "        deploymentName: chatCompletionDeploymentName)\n",
    "    .Build();\n",
    "\n",
    "Console.WriteLine($\"Semantic Kernel created...\");\n",
    " "
   ]
  },
  {
   "cell_type": "markdown",
   "metadata": {},
   "source": [
    "## Step 2 - Define native function"
   ]
  },
  {
   "cell_type": "code",
   "execution_count": 11,
   "metadata": {
    "dotnet_interactive": {
     "language": "csharp"
    },
    "polyglot_notebook": {
     "kernelName": "csharp"
    }
   },
   "outputs": [
    {
     "name": "stdout",
     "output_type": "stream",
     "text": [
      "Inline function defined ...\r\n"
     ]
    }
   ],
   "source": [
    "using System.ComponentModel;\n",
    "using Microsoft.SemanticKernel;\n",
    "using System.Text.Json;\n",
    "using System.Net.Http;\n",
    "\n",
    "public class NativeFunctions {\n",
    "\n",
    "    [SKFunction, Description(\"Download content from url\")]\n",
    "    public async Task<string> DownloadContentFromUrl(string url, int maxSize = 1000) \n",
    "    {\n",
    "        Console.WriteLine(url); \n",
    "        using HttpClient httpClient = new HttpClient();\n",
    "        \n",
    "        HttpResponseMessage httpResponseMessage = await httpClient.GetAsync(url);\n",
    "        JsonDocument jsonDocument = JsonDocument.Parse(await httpResponseMessage.Content.ReadAsStringAsync());\n",
    "\n",
    "        JsonElement jsonElement = jsonDocument.RootElement; \n",
    "        return IterateJson(jsonElement).Substring(0, maxSize); \n",
    "    }\n",
    "\n",
    "    string IterateJson(JsonElement root) \n",
    "    {\n",
    "        string article = \"\"; \n",
    "\n",
    "        if (root.ValueKind == JsonValueKind.Array)\n",
    "        {\n",
    "            foreach (JsonElement element in root.EnumerateArray())\n",
    "            {\n",
    "                IterateJson(element);\n",
    "            }\n",
    "        }\n",
    "        else if (root.ValueKind == JsonValueKind.Object)\n",
    "        {\n",
    "            foreach (JsonProperty property in root.EnumerateObject())\n",
    "            {\n",
    "                if (property.Name == \"extract\"){\n",
    "                    article = property.Value.GetString()??\"\";\n",
    "                    break; \n",
    "                }\n",
    "                article = IterateJson(property.Value);\n",
    "            }\n",
    "        }\n",
    "        return article; \n",
    "    }\n",
    "}\n",
    "\n",
    "Console.WriteLine($\"Inline function defined ...\"); "
   ]
  },
  {
   "cell_type": "markdown",
   "metadata": {},
   "source": [
    "## Step 3 - Import native function"
   ]
  },
  {
   "cell_type": "code",
   "execution_count": 12,
   "metadata": {
    "dotnet_interactive": {
     "language": "csharp"
    },
    "polyglot_notebook": {
     "kernelName": "csharp"
    }
   },
   "outputs": [
    {
     "name": "stdout",
     "output_type": "stream",
     "text": [
      "Inline function DownloadContentFromUrl imported...\r\n"
     ]
    }
   ],
   "source": [
    "using Microsoft.SemanticKernel.Orchestration;\n",
    "\n",
    "//Import native function\n",
    "string plugInName = \"NativeFunction\";\n",
    "string functionName = \"DownloadContentFromUrl\";\n",
    "\n",
    "NativeFunctions nativeFunctions = new NativeFunctions();\n",
    "kernel.ImportFunctions(nativeFunctions, plugInName);\n",
    "\n",
    "ISKFunction skFunction = kernel.Functions.GetFunction(plugInName, functionName);\n",
    "\n",
    "Console.WriteLine($\"Inline function {skFunction.Name} imported...\");\n"
   ]
  },
  {
   "cell_type": "markdown",
   "metadata": {},
   "source": [
    "## Step 4: Define semantic inline function"
   ]
  },
  {
   "cell_type": "code",
   "execution_count": 13,
   "metadata": {
    "dotnet_interactive": {
     "language": "csharp"
    },
    "polyglot_notebook": {
     "kernelName": "csharp"
    }
   },
   "outputs": [
    {
     "name": "stdout",
     "output_type": "stream",
     "text": [
      "Semantic inline function 'SummarizeFunction' in plug-in 'SemanticFunctions' registered...\r\n"
     ]
    }
   ],
   "source": [
    "using Microsoft.SemanticKernel.SemanticFunctions;\n",
    "using Microsoft.SemanticKernel.Connectors.AI.OpenAI;\n",
    "\n",
    "\n",
    "//Define semantic function inline\n",
    "string skPrompt = @\"Summarize the provided unstructured text in 3 easy to understand sentences. \n",
    "                    The sentences need to be short and provide the most important content of the provided text.\n",
    "                    Text to summarize: {{$input}}\";\n",
    "\n",
    "OpenAIRequestSettings openAIRequestSettings = new OpenAIRequestSettings\n",
    "{\n",
    "    MaxTokens = 100,\n",
    "    Temperature = 0.7,\n",
    "    TopP = 1,\n",
    "    FrequencyPenalty = 0,\n",
    "    PresencePenalty = 0,\n",
    "    StopSequences = new List<string> { \"\\n\" }\n",
    "};\n",
    "\n",
    "kernel.CreateSemanticFunction(\n",
    "    promptTemplate: skPrompt, \n",
    "    functionName: \"SummarizeText\",\n",
    "    pluginName: \"SemanticFunctions\", \n",
    "    requestSettings: openAIRequestSettings\n",
    ");\n",
    "\n",
    "Console.WriteLine($\"Semantic inline function 'SummarizeFunction' in plug-in 'SemanticFunctions' registered...\");"
   ]
  },
  {
   "cell_type": "markdown",
   "metadata": {},
   "source": [
    "## Step 5: Define semantic function from file"
   ]
  },
  {
   "cell_type": "code",
   "execution_count": 14,
   "metadata": {
    "dotnet_interactive": {
     "language": "csharp"
    },
    "polyglot_notebook": {
     "kernelName": "csharp"
    }
   },
   "outputs": [
    {
     "name": "stdout",
     "output_type": "stream",
     "text": [
      "Semantic functions imported from directory 'c:\\LiL_AOAI\\04\\Plugins'...\r\n"
     ]
    }
   ],
   "source": [
    "using System.IO; \n",
    "\n",
    "string pluginsDirectory = Path.Combine(Directory.GetCurrentDirectory(), \"Plugins\");\n",
    "plugInName = \"TextPlugin\";\n",
    "\n",
    "kernel.ImportSemanticFunctionsFromDirectory(pluginsDirectory, plugInName);\n",
    "\n",
    "Console.WriteLine($\"Semantic functions imported from directory '{pluginsDirectory}'...\");"
   ]
  },
  {
   "cell_type": "markdown",
   "metadata": {},
   "source": [
    "## Step 6: Execute functions"
   ]
  },
  {
   "cell_type": "code",
   "execution_count": 16,
   "metadata": {
    "dotnet_interactive": {
     "language": "csharp"
    },
    "polyglot_notebook": {
     "kernelName": "csharp"
    }
   },
   "outputs": [
    {
     "name": "stdout",
     "output_type": "stream",
     "text": [
      "https://en.wikipedia.org/w/api.php?action=query&format=json&prop=extracts&titles=Super%20Bowl&explaintext=1&exsectionformat=plain\n",
      "Wiki article: The Super Bowl is the annual league championship g...\n",
      "Summarization: The Super Bowl is the annual championship game of the National Football League (NFL), played on the second Sunday in February, with the winning teams awarded the Vince Lombardi Trophy. It originated from a 1966 merger agreement between the NFL and the American Football League (AFL) to compete for a championship. The event is one of the world's most-watched sports events, commanding prime advertising slots due to its high viewership, and is also the second-largest event for American food consumption after Thanksgiving...\n",
      "Keywords: Super Bowl, National Football League, Vince Lombardi Trophy, advertising, food consumption...\n"
     ]
    }
   ],
   "source": [
    "//Execute native function (Download content from URL)\n",
    "ContextVariables contextVariables = new ContextVariables();\n",
    "contextVariables.Add(\"url\", \"https://en.wikipedia.org/w/api.php?action=query&format=json&prop=extracts&titles=Super%20Bowl&explaintext=1&exsectionformat=plain\");\n",
    "contextVariables.Add(\"maxSize\", \"5000\");\n",
    "\n",
    "plugInName = \"NativeFunction\";\n",
    "functionName = \"DownloadContentFromUrl\";\n",
    "\n",
    "ISKFunction skFunction = kernel.Functions.GetFunction(plugInName, functionName);\n",
    "KernelResult kernelResult = await kernel.RunAsync(contextVariables, skFunction);         \n",
    "\n",
    "string wikiArticle = kernelResult.GetValue<string>() ?? \"\";\n",
    "Console.WriteLine($\"Wiki article: {wikiArticle.Substring(0,50)}...\");\n",
    "\n",
    "//Execute semantic function (Summarize downloaded article)\n",
    "plugInName = \"SemanticFunctions\";\n",
    "functionName = \"SummarizeText\"; \n",
    "\n",
    "skFunction = kernel.Functions.GetFunction(plugInName, functionName);\n",
    "kernelResult = await kernel.RunAsync(wikiArticle, skFunction);\n",
    "\n",
    "string summarization = kernelResult.GetValue<string>() ?? \"\";\n",
    "Console.WriteLine($\"Summarization: {summarization}...\");\n",
    "\n",
    "//Execute semantic function (Extract keywords from summarization)\n",
    "plugInName = \"TextPlugIn\";\n",
    "functionName = \"KeyWordExtraction\";\n",
    "\n",
    "skFunction = kernel.Functions.GetFunction(plugInName, functionName);\n",
    "KernelResult result = await kernel.RunAsync(summarization, skFunction); \n",
    "\n",
    "string keywords = result.GetValue<string>();\n",
    "Console.WriteLine($\"Keywords: {keywords}...\");"
   ]
  }
 ],
 "metadata": {
  "kernelspec": {
   "display_name": ".NET (C#)",
   "language": "C#",
   "name": ".net-csharp"
  },
  "language_info": {
   "name": "polyglot-notebook"
  },
  "polyglot_notebook": {
   "kernelInfo": {
    "defaultKernelName": "csharp",
    "items": [
     {
      "aliases": [],
      "languageName": "csharp",
      "name": "csharp"
     }
    ]
   }
  }
 },
 "nbformat": 4,
 "nbformat_minor": 2
}
