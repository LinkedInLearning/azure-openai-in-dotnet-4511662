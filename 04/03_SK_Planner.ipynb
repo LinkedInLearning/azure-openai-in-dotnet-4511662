{
 "cells": [
  {
   "cell_type": "markdown",
   "metadata": {},
   "source": [
    "# 04 MS Semantic Kernel - Planner\n",
    "\n",
    "## Intro \n",
    "\n",
    "## Step 1 - Read Environment / Create Semantic Kernel Instance"
   ]
  },
  {
   "cell_type": "code",
   "execution_count": null,
   "metadata": {
    "dotnet_interactive": {
     "language": "csharp"
    },
    "polyglot_notebook": {
     "kernelName": "csharp"
    }
   },
   "outputs": [],
   "source": [
    "#r \"nuget: Microsoft.SemanticKernel, 1.0.0-beta1\"\n",
    "#r \"nuget: DotNetEnv, 2.5.0\"\n",
    "\n",
    "using Microsoft.SemanticKernel;\n",
    "using DotNetEnv;\n",
    "\n",
    "string _configurationFile = @\"../01/application.env\";\n",
    "Env.Load(_configurationFile);\n",
    "\n",
    "string oAiApiKey = Environment.GetEnvironmentVariable(\"AOAI_APIKEY\");\n",
    "string oAiEndpoint = Environment.GetEnvironmentVariable(\"AOAI_ENDPOINT\");\n",
    "string chatCompletionDeploymentName = Environment.GetEnvironmentVariable(\"CHATCOMPLETION_DEPLOYMENTNAME\");\n",
    "\n",
    "IKernel kernel = new KernelBuilder()\n",
    "    .WithAzureChatCompletionService(\n",
    "        endpoint: oAiEndpoint, \n",
    "        apiKey: oAiApiKey,\n",
    "        deploymentName: chatCompletionDeploymentName)\n",
    "    .Build();\n",
    "\n",
    "Console.WriteLine($\"Semantic Kernel created...\");\n"
   ]
  },
  {
   "cell_type": "code",
   "execution_count": null,
   "metadata": {
    "dotnet_interactive": {
     "language": "csharp"
    },
    "polyglot_notebook": {
     "kernelName": "csharp"
    }
   },
   "outputs": [],
   "source": [
    "using Microsoft.SemanticKernel;\n",
    "using System.ComponentModel;\n",
    "using System.Text.Json;\n",
    "using System.Net.Http;\n",
    "\n",
    "public class NativeFunctions {\n",
    "\n",
    "    [SKFunction, Description(\"Download content from url\")]\n",
    "    public async Task<string> DownloadContentFromUrl(string url, int maxSize = 1000) \n",
    "    {\n",
    "        using HttpClient httpClient = new HttpClient();\n",
    "        \n",
    "        HttpResponseMessage httpResponseMessage = await httpClient.GetAsync(url);\n",
    "        JsonDocument jsonDocument = JsonDocument.Parse(await httpResponseMessage.Content.ReadAsStringAsync());\n",
    "\n",
    "        JsonElement jsonElement = jsonDocument.RootElement; \n",
    "        return IterateJson(jsonElement).Substring(0, maxSize); \n",
    "    }\n",
    "\n",
    "    string IterateJson(JsonElement root) \n",
    "    {\n",
    "        string article = \"\"; \n",
    "\n",
    "        if (root.ValueKind == JsonValueKind.Array)\n",
    "        {\n",
    "            foreach (JsonElement element in root.EnumerateArray())\n",
    "            {\n",
    "                IterateJson(element);\n",
    "            }\n",
    "        }\n",
    "        else if (root.ValueKind == JsonValueKind.Object)\n",
    "        {\n",
    "            foreach (JsonProperty property in root.EnumerateObject())\n",
    "            {\n",
    "                if (property.Name == \"extract\"){\n",
    "                    article = property.Value.GetString()??\"\";\n",
    "                    break; \n",
    "                }\n",
    "                article = IterateJson(property.Value);\n",
    "            }\n",
    "        }\n",
    "        return article; \n",
    "    }\n",
    "}\n",
    "\n",
    "Console.WriteLine($\"Native function 'DownloadContentFromUrl' defined...\");"
   ]
  },
  {
   "cell_type": "code",
   "execution_count": null,
   "metadata": {
    "dotnet_interactive": {
     "language": "csharp"
    },
    "polyglot_notebook": {
     "kernelName": "csharp"
    }
   },
   "outputs": [],
   "source": [
    "using Microsoft.SemanticKernel.Connectors.AI.OpenAI;\n",
    "using System.IO;\n",
    "\n",
    "//Import native Function\n",
    "string plugInName = \"NativeFunctions\";\n",
    "NativeFunctions nativeFunctions = new NativeFunctions();\n",
    "kernel.ImportFunctions(nativeFunctions, plugInName);\n",
    "\n",
    "//Create semantic function (inline)\n",
    "string skPrompt = @\"Summarize the provided unstructured text in 3 easy to understand sentences. \n",
    "                        The sentences need to be short and provide the most important content of the provided text.\n",
    "                        Text to summarize: {{$input}}\";\n",
    "\n",
    "OpenAIRequestSettings openAIRequestSettings = new OpenAIRequestSettings(){\n",
    "            MaxTokens = 2000, \n",
    "            Temperature = 0.7, \n",
    "            TopP = 0.1\n",
    "        };\n",
    "\n",
    "kernel.CreateSemanticFunction(\n",
    "    promptTemplate: skPrompt, \n",
    "    functionName: \"SimpleSummarization\",\n",
    "    pluginName: \"TextPlugin\", \n",
    "    requestSettings: openAIRequestSettings\n",
    ");\n",
    "\n",
    "//Import semantic function (file)\n",
    "string pluginsDirectory = Path.Combine(Directory.GetCurrentDirectory(), \"Plugins\");\n",
    "plugInName = \"TextPlugin\";\n",
    "kernel.ImportSemanticFunctionsFromDirectory(pluginsDirectory, plugInName);\n",
    "\n",
    "Console.WriteLine($\"Inline function, semantic inline function, semantic function from file registered...\");\n"
   ]
  },
  {
   "cell_type": "code",
   "execution_count": null,
   "metadata": {
    "dotnet_interactive": {
     "language": "csharp"
    },
    "polyglot_notebook": {
     "kernelName": "csharp"
    }
   },
   "outputs": [],
   "source": [
    "using Microsoft.SemanticKernel.Planners;\n",
    "using Microsoft.SemanticKernel.Orchestration;\n",
    "\n",
    "string actionDefinition = \"Download a web page from a given url, summarize the content from the web page and extract the most important keywords from the summarization\";\n",
    "\n",
    "SequentialPlanner sequentialPlanner = new SequentialPlanner(kernel);        \n",
    "string url = \"https://en.wikipedia.org/w/api.php?action=query&format=json&prop=extracts&titles=Champions%20League&explaintext=1&exsectionformat=plain\";\n",
    "\n",
    "var customPlan = await sequentialPlanner.CreatePlanAsync(actionDefinition);\n",
    "KernelResult kernelResult = await kernel.RunAsync(url, customPlan);\n",
    "\n",
    "Console.WriteLine($\"Extracted keywords: {kernelResult.GetValue<string>()}\");\n"
   ]
  }
 ],
 "metadata": {
  "kernelspec": {
   "display_name": ".NET (C#)",
   "language": "C#",
   "name": ".net-csharp"
  },
  "language_info": {
   "name": "polyglot-notebook"
  },
  "polyglot_notebook": {
   "kernelInfo": {
    "defaultKernelName": "csharp",
    "items": [
     {
      "aliases": [],
      "languageName": "csharp",
      "name": "csharp"
     }
    ]
   }
  }
 },
 "nbformat": 4,
 "nbformat_minor": 2
}
