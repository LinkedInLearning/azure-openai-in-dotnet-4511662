{
 "cells": [
  {
   "cell_type": "markdown",
   "metadata": {},
   "source": [
    "# 04 MS Semantic Kernel - Memory\n",
    "\n",
    "## Intro \n",
    "\n",
    "Semantic Kernel simplifies storing and querying information by abstracting necessary steps like, e.g. creating embeddings, storing embeddings etc.\n",
    "\n",
    "## Step 1 - Read Environment / Create Semantic Kernel Instance"
   ]
  },
  {
   "cell_type": "code",
   "execution_count": 1,
   "metadata": {
    "dotnet_interactive": {
     "language": "csharp"
    },
    "polyglot_notebook": {
     "kernelName": "csharp"
    }
   },
   "outputs": [
    {
     "data": {
      "text/html": [
       "<div><div></div><div></div><div><strong>Installed Packages</strong><ul><li><span>DotNetEnv, 2.5.0</span></li><li><span>Microsoft.SemanticKernel, 1.0.0-beta1</span></li></ul></div></div>"
      ]
     },
     "metadata": {},
     "output_type": "display_data"
    },
    {
     "name": "stdout",
     "output_type": "stream",
     "text": [
      "Semantic Kernel created...\r\n"
     ]
    }
   ],
   "source": [
    "#r \"nuget: Microsoft.SemanticKernel, 1.0.0-beta1\"\n",
    "#r \"nuget: DotNetEnv, 2.5.0\"\n",
    "\n",
    "using Azure; \n",
    "using Azure.AI.OpenAI;\n",
    "using Microsoft.SemanticKernel;\n",
    "using Microsoft.SemanticKernel.Plugins.Memory;\n",
    "\n",
    "using DotNetEnv;\n",
    "\n",
    "string _configurationFile = @\"../01/application.env\";\n",
    "Env.Load(_configurationFile);\n",
    "\n",
    "string oAiApiKey = Environment.GetEnvironmentVariable(\"AOAI_APIKEY\");\n",
    "string oAiEndpoint = Environment.GetEnvironmentVariable(\"AOAI_ENDPOINT\");\n",
    "string chatCompletionDeploymentName = Environment.GetEnvironmentVariable(\"CHATCOMPLETION_DEPLOYMENTNAME\");\n",
    "string embeddingDeploymentName = Environment.GetEnvironmentVariable(\"EMBEDDING_DEPLOYMENTNAME\");\n",
    "\n",
    "IKernel kernel = new KernelBuilder()\n",
    "    .WithAzureChatCompletionService(\n",
    "        endpoint: oAiEndpoint, \n",
    "        apiKey: oAiApiKey,\n",
    "        deploymentName: chatCompletionDeploymentName)\n",
    "    .Build();\n",
    "\n",
    "Console.WriteLine($\"Semantic Kernel created...\");\n"
   ]
  },
  {
   "cell_type": "markdown",
   "metadata": {},
   "source": [
    "## Step 2 - Download and Summarize"
   ]
  },
  {
   "cell_type": "code",
   "execution_count": 2,
   "metadata": {
    "dotnet_interactive": {
     "language": "csharp"
    },
    "polyglot_notebook": {
     "kernelName": "csharp"
    }
   },
   "outputs": [
    {
     "name": "stdout",
     "output_type": "stream",
     "text": [
      "Content downloaded from https://en.wikipedia.org/w/api.php?action=query&format=json&prop=extracts&titles=Champions%20League&explaintext=1&exsectionformat=plain...\n",
      "Summarized content from https://en.wikipedia.org/w/api.php?action=query&format=json&prop=extracts&titles=Champions%20League&explaintext=1&exsectionformat=plain...\n",
      "Content downloaded from https://en.wikipedia.org/w/api.php?action=query&format=json&prop=extracts&titles=Super%20Bowl&explaintext=1&exsectionformat=plain...\n",
      "Summarized content from https://en.wikipedia.org/w/api.php?action=query&format=json&prop=extracts&titles=Super%20Bowl&explaintext=1&exsectionformat=plain...\n",
      "Content downloaded from https://en.wikipedia.org/w/api.php?action=query&format=json&prop=extracts&titles=Cricket%20World%20Cup&explaintext=1&exsectionformat=plain...\n",
      "Summarized content from https://en.wikipedia.org/w/api.php?action=query&format=json&prop=extracts&titles=Cricket%20World%20Cup&explaintext=1&exsectionformat=plain...\n"
     ]
    }
   ],
   "source": [
    "using System.IO;\n",
    "\n",
    "#!import ./SK_Memory_DownloadSummarize.cs\n",
    "\n",
    "Dictionary<string,string> summarizations = await DownloadSummarize.Execute(kernel);\n",
    "\n",
    "foreach (KeyValuePair<string, string> summarization in summarizations) {\n",
    "    File.WriteAllText(\n",
    "        path: $\"./Summarizations/{summarization.Key.Split(\";\")[1].Trim()}.txt\", \n",
    "        contents: summarization.Value\n",
    "    );\n",
    "}\n"
   ]
  },
  {
   "cell_type": "markdown",
   "metadata": {},
   "source": [
    "## Step 3 - Create Semantic Kernel Memory Builder"
   ]
  },
  {
   "cell_type": "code",
   "execution_count": 3,
   "metadata": {
    "dotnet_interactive": {
     "language": "csharp"
    },
    "polyglot_notebook": {
     "kernelName": "csharp"
    }
   },
   "outputs": [
    {
     "name": "stdout",
     "output_type": "stream",
     "text": [
      "Memory Builder created...\r\n"
     ]
    }
   ],
   "source": [
    "using Microsoft.SemanticKernel.Memory; \n",
    "\n",
    "ISemanticTextMemory memoryBuilder = new MemoryBuilder()\n",
    "    .WithAzureTextEmbeddingGenerationService(\n",
    "        endpoint: oAiEndpoint, \n",
    "        apiKey: oAiApiKey,\n",
    "        deploymentName: embeddingDeploymentName)\n",
    "    .WithMemoryStore(new VolatileMemoryStore())\n",
    "    .Build();\n",
    "\n",
    "Console.WriteLine($\"Memory Builder created...\");"
   ]
  },
  {
   "cell_type": "markdown",
   "metadata": {},
   "source": [
    "## Step 4 - Store summarizations"
   ]
  },
  {
   "cell_type": "code",
   "execution_count": 4,
   "metadata": {
    "dotnet_interactive": {
     "language": "csharp"
    },
    "polyglot_notebook": {
     "kernelName": "csharp"
    }
   },
   "outputs": [
    {
     "name": "stdout",
     "output_type": "stream",
     "text": [
      "Summarizations reference saved: 'Champions League' ...\n",
      "Summarizations reference saved: 'Super Bowl' ...\n",
      "Summarizations reference saved: 'Cricket World Cup' ...\n"
     ]
    }
   ],
   "source": [
    "string memoryCollectionName = \"SportEvents\";\n",
    "\n",
    "foreach (var summarization in summarizations) {\n",
    "\n",
    "    await memoryBuilder.SaveReferenceAsync(\n",
    "        collection: memoryCollectionName,\n",
    "        description: summarization.Key.Split(\";\")[1].Trim(),\n",
    "        text: summarization.Value,\n",
    "        externalId: summarization.Key.Split(\";\")[2].Trim(),\n",
    "        externalSourceName: \"Wikipedia\"\n",
    "    );\n",
    "    \n",
    "    Console.WriteLine($\"Summarizations reference saved: '{summarization.Key.Split(\";\")[1].Trim()}' ...\");\n",
    "}"
   ]
  },
  {
   "cell_type": "markdown",
   "metadata": {},
   "source": [
    "## Step 5 - Query Memory"
   ]
  },
  {
   "cell_type": "code",
   "execution_count": 5,
   "metadata": {
    "dotnet_interactive": {
     "language": "csharp"
    },
    "polyglot_notebook": {
     "kernelName": "csharp"
    }
   },
   "outputs": [
    {
     "name": "stdout",
     "output_type": "stream",
     "text": [
      "Query: Europe\n",
      "  Id:         : https://en.wikipedia.org/w/api.php?action=query&format=json&prop=extracts&titles=Champions%20League&explaintext=1&exsectionformat=plain\n",
      "  Description : Champions League\n",
      "  Relevance   : 0.7627838573303226\n",
      "Query: Huge TV audience\n",
      "  Id:         : https://en.wikipedia.org/w/api.php?action=query&format=json&prop=extracts&titles=Super%20Bowl&explaintext=1&exsectionformat=plain\n",
      "  Description : Super Bowl\n",
      "  Relevance   : 0.7579632475483531\n",
      "Query: Bat-and-ball\n",
      "  Id:         : https://en.wikipedia.org/w/api.php?action=query&format=json&prop=extracts&titles=Cricket%20World%20Cup&explaintext=1&exsectionformat=plain\n",
      "  Description : Cricket World Cup\n",
      "  Relevance   : 0.778306183402297\n",
      "Query: Bat-and-ball\n",
      "  Id:         : https://en.wikipedia.org/w/api.php?action=query&format=json&prop=extracts&titles=Super%20Bowl&explaintext=1&exsectionformat=plain\n",
      "  Description : Super Bowl\n",
      "  Relevance   : 0.7573848790959947\n"
     ]
    }
   ],
   "source": [
    "\n",
    "string[] queryPhrases = {\n",
    "    \"Europe\", \n",
    "    \"Huge TV audience\",\n",
    "    \"Bat-and-ball\"\n",
    "};\n",
    "\n",
    "foreach (string query in queryPhrases) {\n",
    "    \n",
    "    IAsyncEnumerable<MemoryQueryResult> memoryQueryResults = memoryBuilder.SearchAsync(\n",
    "                collection: memoryCollectionName, \n",
    "                query: query, \n",
    "                limit:2, \n",
    "                minRelevanceScore: 0.75);\n",
    "    \n",
    "    await foreach (MemoryQueryResult memoryQueryResult in memoryQueryResults)\n",
    "    {\n",
    "        Console.WriteLine($\"Query: {query}\");\n",
    "        Console.WriteLine($\"  Id:         : {memoryQueryResult.Metadata.Id}\");\n",
    "        Console.WriteLine($\"  Description : {memoryQueryResult.Metadata.Description}\");\n",
    "        Console.WriteLine($\"  Relevance   : {memoryQueryResult.Relevance}\");\n",
    "    }\n",
    "}\n",
    "\n"
   ]
  }
 ],
 "metadata": {
  "kernelspec": {
   "display_name": ".NET (C#)",
   "language": "C#",
   "name": ".net-csharp"
  },
  "language_info": {
   "name": "polyglot-notebook"
  },
  "polyglot_notebook": {
   "kernelInfo": {
    "defaultKernelName": "csharp",
    "items": [
     {
      "aliases": [],
      "languageName": "csharp",
      "name": "csharp"
     }
    ]
   }
  }
 },
 "nbformat": 4,
 "nbformat_minor": 2
}
